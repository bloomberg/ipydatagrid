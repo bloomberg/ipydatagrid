{
 "cells": [
  {
   "cell_type": "code",
   "execution_count": null,
   "metadata": {},
   "outputs": [],
   "source": [
    "from ipydatagrid import DataGrid, Filter, Sort, TextRenderer, Predicate"
   ]
  },
  {
   "cell_type": "code",
   "execution_count": null,
   "metadata": {},
   "outputs": [],
   "source": [
    "from json import load\n",
    "\n",
    "with open('./cars.json') as fobj:  \n",
    "    data = load(fobj)"
   ]
  },
  {
   "cell_type": "code",
   "execution_count": null,
   "metadata": {},
   "outputs": [],
   "source": [
    "from bqplot import ColorScale, OrdinalColorScale, OrdinalScale\n",
    "\n",
    "acceleration_color_scale = ColorScale(min=0, max=20)\n",
    "horsepower_operator = Predicate('value', '<', 150, 'red', 'green')\n",
    "\n",
    "renderers = {\n",
    "    'Acceleration': TextRenderer(\n",
    "        background_color=acceleration_color_scale\n",
    "    ),\n",
    "    'Displacement': TextRenderer(\n",
    "        text_color=ColorScale(min=97, max=455), \n",
    "        font=Predicate('value', '>', 400, '16px sans-serif', '12px sans-serif')\n",
    "    ),\n",
    "    'Horsepower': TextRenderer(\n",
    "        background_color=horsepower_operator\n",
    "    ),\n",
    "    'Name': TextRenderer(\n",
    "        background_color=[Predicate('value', 'contains', 'chevrolet', 'green'), Predicate('value', 'contains', 'torino', 'yellow')]\n",
    "    ),\n",
    "    'Origin': TextRenderer(\n",
    "        background_color=OrdinalColorScale(colors=['DodgerBlue', 'SeaGreen', 'Yellow'], domain=['USA', 'Japan', 'Europe']),\n",
    "        horizontal_alignment=Predicate('value', '=', 'USA', 'right')\n",
    "    ),\n",
    "    'Year': TextRenderer(background_color='green'),\n",
    "}\n",
    "\n",
    "datagrid = DataGrid(data=data, base_row_size=32, base_column_size=100, renderers=renderers)\n",
    "datagrid"
   ]
  },
  {
   "cell_type": "code",
   "execution_count": null,
   "metadata": {},
   "outputs": [],
   "source": [
    "horsepower_operator.output_if_true = 'orange'"
   ]
  },
  {
   "cell_type": "code",
   "execution_count": null,
   "metadata": {},
   "outputs": [],
   "source": [
    "datagrid.transform([Filter('Origin', '=', 'Europe'), Sort('Displacement')])"
   ]
  },
  {
   "cell_type": "code",
   "execution_count": null,
   "metadata": {},
   "outputs": [],
   "source": [
    "acceleration_color_scale.min = 12.5\n",
    "acceleration_color_scale.max = 20.5"
   ]
  },
  {
   "cell_type": "code",
   "execution_count": null,
   "metadata": {},
   "outputs": [],
   "source": [
    "datagrid.revert()"
   ]
  },
  {
   "cell_type": "code",
   "execution_count": null,
   "metadata": {},
   "outputs": [],
   "source": [
    "datagrid.transform([Filter('Origin', '=', 'USA'), Filter('Acceleration', '<', 13), Sort('Acceleration')])"
   ]
  },
  {
   "cell_type": "markdown",
   "metadata": {},
   "source": [
    "# Perfomance test: A million cells with ipydatagrid"
   ]
  },
  {
   "cell_type": "code",
   "execution_count": null,
   "metadata": {},
   "outputs": [],
   "source": [
    "from random import uniform\n",
    "\n",
    "n_rows = 1000\n",
    "n_columns = 1000\n",
    "\n",
    "data = {'data': [], 'schema': {}}\n",
    "\n",
    "data['data'] = [[uniform(0, 1) for c in range(n_columns)] for r in range(n_rows)]\n",
    "data['schema']['fields'] = [{'name': str(c), type:'number'} for c in range(n_columns)]"
   ]
  },
  {
   "cell_type": "code",
   "execution_count": null,
   "metadata": {},
   "outputs": [],
   "source": [
    "from bqplot import ColorScale\n",
    "from ipydatagrid import DataGrid, TextRenderer\n",
    "\n",
    "color_scale = ColorScale(min=0, max=1, scheme='viridis')\n",
    "\n",
    "huge_datagrid = DataGrid(data=data, default_renderer=TextRenderer(background_color=color_scale))"
   ]
  },
  {
   "cell_type": "code",
   "execution_count": null,
   "metadata": {},
   "outputs": [],
   "source": [
    "huge_datagrid"
   ]
  },
  {
   "cell_type": "code",
   "execution_count": null,
   "metadata": {},
   "outputs": [],
   "source": [
    "from ipywidgets import FloatSlider, link\n",
    "\n",
    "slider = FloatSlider(value=color_scale.max, min=0, max=5)\n",
    "link((color_scale, 'max'), (slider, 'value'))\n",
    "\n",
    "slider"
   ]
  },
  {
   "cell_type": "code",
   "execution_count": null,
   "metadata": {},
   "outputs": [],
   "source": [
    "color_scale.scheme = 'magma'"
   ]
  },
  {
   "cell_type": "code",
   "execution_count": null,
   "metadata": {},
   "outputs": [],
   "source": [
    "conditional_renderer = Predicate('value', '<', 0.5, '#fc8403', 'white')\n",
    "\n",
    "conditional_huge_datagrid = DataGrid(data=data, default_renderer=TextRenderer(background_color=conditional_renderer))\n",
    "conditional_huge_datagrid"
   ]
  },
  {
   "cell_type": "code",
   "execution_count": null,
   "metadata": {},
   "outputs": [],
   "source": [
    "from ipywidgets import FloatSlider, Dropdown, ColorPicker, HBox, link\n",
    "\n",
    "operator_dropdown = Dropdown(\n",
    "    options=['<', '>', '='],\n",
    "    value=conditional_renderer.operator\n",
    ")\n",
    "link((conditional_renderer, 'operator'), (operator_dropdown, 'value'))\n",
    "\n",
    "reference_slider = FloatSlider(value=conditional_renderer.reference_value, min=0, max=1)\n",
    "link((conditional_renderer, 'reference_value'), (reference_slider, 'value'))\n",
    "\n",
    "output_colorpicker = ColorPicker(\n",
    "    value=conditional_renderer.output_if_true\n",
    ")\n",
    "link((conditional_renderer, 'output_if_true'), (output_colorpicker, 'value'))\n",
    "\n",
    "HBox((operator_dropdown, reference_slider, output_colorpicker))"
   ]
  },
  {
   "cell_type": "code",
   "execution_count": null,
   "metadata": {},
   "outputs": [],
   "source": [
    "conditional_renderer.output_if_false = 'red'"
   ]
  },
  {
   "cell_type": "code",
   "execution_count": null,
   "metadata": {},
   "outputs": [],
   "source": [
    "conditional_renderer.output_if_false = None"
   ]
  },
  {
   "cell_type": "code",
   "execution_count": null,
   "metadata": {},
   "outputs": [],
   "source": []
  }
 ],
 "metadata": {
  "kernelspec": {
   "display_name": "Python 3",
   "language": "python",
   "name": "python3"
  },
  "language_info": {
   "codemirror_mode": {
    "name": "ipython",
    "version": 3
   },
   "file_extension": ".py",
   "mimetype": "text/x-python",
   "name": "python",
   "nbconvert_exporter": "python",
   "pygments_lexer": "ipython3",
   "version": "3.7.3"
  }
 },
 "nbformat": 4,
 "nbformat_minor": 4
}
