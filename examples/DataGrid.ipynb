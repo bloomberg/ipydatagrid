{
 "cells": [
  {
   "cell_type": "code",
   "execution_count": null,
   "metadata": {},
   "outputs": [],
   "source": [
    "from ipydatagrid import DataGrid, Filter, Sort"
   ]
  },
  {
   "cell_type": "code",
   "execution_count": null,
   "metadata": {},
   "outputs": [],
   "source": [
    "from json import load\n",
    "\n",
    "with open('./cars.json') as fobj:  \n",
    "    data = load(fobj)"
   ]
  },
  {
   "cell_type": "code",
   "execution_count": null,
   "metadata": {},
   "outputs": [],
   "source": [
    "from bqplot import ColorScale, OrdinalColorScale\n",
    "\n",
    "formatters = {\n",
    "    'Acceleration': {'background_color': ColorScale(min=0, max=20)},\n",
    "    'Year': {'background_color': 'green'},\n",
    "    'Displacement': {'text_color': ColorScale(min=97, max=455)},\n",
    "    'Origin': {'background_color': OrdinalColorScale(\n",
    "        colors=['DodgerBlue', 'SeaGreen', 'Yellow'], domain=['USA', 'Japan', 'Europe'])}\n",
    "}\n",
    "\n",
    "datagrid = DataGrid(data=data, base_row_size=32, base_column_size=100, formatters=formatters)\n",
    "datagrid"
   ]
  },
  {
   "cell_type": "code",
   "execution_count": null,
   "metadata": {},
   "outputs": [],
   "source": [
    "datagrid.transform([Filter('Origin', '=', 'Europe'), Sort('Displacement')])"
   ]
  },
  {
   "cell_type": "code",
   "execution_count": null,
   "metadata": {},
   "outputs": [],
   "source": [
    "datagrid.revert()"
   ]
  },
  {
   "cell_type": "code",
   "execution_count": null,
   "metadata": {},
   "outputs": [],
   "source": [
    "datagrid.transform([Filter('Origin', '=', 'USA'), Filter('Acceleration', '<', 13), Sort('Acceleration')])"
   ]
  },
  {
   "cell_type": "markdown",
   "metadata": {},
   "source": [
    "# Perfomance test: A million cells with ipydatagrid"
   ]
  },
  {
   "cell_type": "code",
   "execution_count": null,
   "metadata": {},
   "outputs": [],
   "source": [
    "from random import uniform\n",
    "\n",
    "n_rows = 1000\n",
    "n_columns = 1000\n",
    "\n",
    "data = {'data': [], 'schema': {}}\n",
    "\n",
    "data['data'] = [[uniform(0, 1) for c in range(n_columns)] for r in range(n_rows)]\n",
    "data['schema']['fields'] = [{'name': str(c), type:'number'} for c in range(n_columns)]"
   ]
  },
  {
   "cell_type": "code",
   "execution_count": null,
   "metadata": {},
   "outputs": [],
   "source": [
    "from bqplot import ColorScale\n",
    "\n",
    "color_scale = ColorScale(min=0, max=1, scheme='viridis')\n",
    "\n",
    "formatters = {str(c): {'background_color': color_scale} for c in range(n_columns)}\n",
    "\n",
    "huge_datagrid = DataGrid(data=data, base_row_size=32, base_column_size=100, formatters=formatters)"
   ]
  },
  {
   "cell_type": "code",
   "execution_count": null,
   "metadata": {},
   "outputs": [],
   "source": [
    "huge_datagrid"
   ]
  }
 ],
 "metadata": {
  "kernelspec": {
   "display_name": "Python 3",
   "language": "python",
   "name": "python3"
  },
  "language_info": {
   "codemirror_mode": {
    "name": "ipython",
    "version": 3
   },
   "file_extension": ".py",
   "mimetype": "text/x-python",
   "name": "python",
   "nbconvert_exporter": "python",
   "pygments_lexer": "ipython3",
   "version": "3.7.3"
  }
 },
 "nbformat": 4,
 "nbformat_minor": 4
}
