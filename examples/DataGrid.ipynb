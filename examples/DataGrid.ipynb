{
 "cells": [
  {
   "cell_type": "markdown",
   "metadata": {},
   "source": [
    "# ipydatagrid"
   ]
  },
  {
   "cell_type": "code",
   "execution_count": null,
   "metadata": {},
   "outputs": [],
   "source": [
    "from ipydatagrid import DataGrid, Filter, Sort, TextRenderer, BarRenderer, Expr"
   ]
  },
  {
   "cell_type": "code",
   "execution_count": null,
   "metadata": {},
   "outputs": [],
   "source": [
    "from json import load\n",
    "\n",
    "with open('./cars.json') as fobj:\n",
    "    data = load(fobj)"
   ]
  },
  {
   "cell_type": "markdown",
   "metadata": {},
   "source": [
    "## Custom cell renderers\n",
    "\n",
    "Custom cell renderers can be defined for the entire grid or column-wise.\n",
    "\n",
    "Two types of cell renderers are currently available: `TextRenderer` and `BarRenderer`.\n",
    "\n",
    "Most of the `TextRenderer`/`BarRenderer` attributes (`background_color`, `text_color` etc.) can either be a __value__, a __bqplot scale__ or a __`VegaExpr`__ or __`Expr`__ instance.\n",
    "\n",
    "\n",
    "### Vega expressions\n",
    "The `VegaExpr` class allows you to define an attribute value as a result of a Vega-expression (see https://vega.github.io/vega/docs/expressions/). _e.g._ `background_color = VegaExpr(\"value < 150 ? 'red' : 'green'\")`.\n",
    "  \n",
    "You can look at the vega-expression documentation for more information about available constants and functions. In the scope of the expression are also available: `value`: cell value, `x` and `y`: cell position in pixel, `width` and `height` of the cell, `row` and `column`: cell position.\n",
    "\n",
    "### Python expressions\n",
    "If you prefer writing those expressions in Python, we provide an `Expr` class which takes a Python expression as input string or a Python function, and generates the equivalent vega-expression for you using [py2vega](https://github.com/QuantStack/py2vega)."
   ]
  },
  {
   "cell_type": "code",
   "execution_count": null,
   "metadata": {},
   "outputs": [],
   "source": [
    "from bqplot import LinearScale, ColorScale, OrdinalColorScale, OrdinalScale\n",
    "from py2vega.functions.color import rgb\n",
    "\n",
    "def horsepower_coloring(value):\n",
    "    if value < 100:\n",
    "        return 'red'\n",
    "    elif value < 150:\n",
    "        return 'orange'\n",
    "    else:\n",
    "        return 'green'\n",
    "\n",
    "def weight_coloring(value):\n",
    "    scaled_value = 1 if value > 4500 else value / 4500\n",
    "    color_value = scaled_value * 255\n",
    "\n",
    "    return rgb(color_value, 0, 0)\n",
    "\n",
    "renderers = {\n",
    "    'Acceleration': BarRenderer(\n",
    "        horizontal_alignment='center',\n",
    "        bar_color=ColorScale(min=0, max=20, scheme='viridis'),\n",
    "        bar_value=LinearScale(min=0, max=20)\n",
    "    ),\n",
    "    'Cylinders': TextRenderer(\n",
    "        background_color=Expr('\"lightgrey\" if row % 2 else default_value')\n",
    "    ),\n",
    "    'Displacement': TextRenderer(\n",
    "        text_color=ColorScale(min=97, max=455), \n",
    "        font=Expr(\"'16px sans-serif' if value > 400 else '12px sans-serif'\")\n",
    "    ),\n",
    "    'Horsepower': TextRenderer(\n",
    "        background_color=Expr(horsepower_coloring)\n",
    "    ),\n",
    "    'Miles_per_Gallon': TextRenderer(\n",
    "        background_color=Expr('\"grey\" if value is None else \"white\"')\n",
    "    ),\n",
    "    'Name': TextRenderer(\n",
    "        background_color=Expr('rgb(0, 100, 255) if \"chevrolet\" in value or \"ford\" in value else \"white\"')\n",
    "    ),\n",
    "    'Origin': TextRenderer(\n",
    "        background_color=OrdinalColorScale(domain=['USA', 'Japan', 'Europe']),\n",
    "        horizontal_alignment=Expr(\"'right' if value in ['USA', 'Japan'] else 'left'\")\n",
    "    ),\n",
    "    'Weight_in_lbs': TextRenderer(\n",
    "        background_color=Expr(weight_coloring)\n",
    "    ),\n",
    "    'Year': TextRenderer(background_color='green'),\n",
    "}\n",
    "\n",
    "datagrid = DataGrid(data=data, base_row_size=32, base_column_size=100, renderers=renderers)\n",
    "datagrid"
   ]
  },
  {
   "cell_type": "code",
   "execution_count": null,
   "metadata": {},
   "outputs": [],
   "source": [
    "renderers['Name'].background_color.value = '\"green\" if \"pontiac\" in value or \"citroen\" in value else \"white\"'"
   ]
  },
  {
   "cell_type": "code",
   "execution_count": null,
   "metadata": {},
   "outputs": [],
   "source": [
    "renderers['Year'].background_color = 'yellow'"
   ]
  },
  {
   "cell_type": "code",
   "execution_count": null,
   "metadata": {},
   "outputs": [],
   "source": [
    "datagrid.transform([Filter('Origin', '=', 'Europe'), Sort('Displacement')])"
   ]
  },
  {
   "cell_type": "code",
   "execution_count": null,
   "metadata": {},
   "outputs": [],
   "source": [
    "datagrid.revert()"
   ]
  },
  {
   "cell_type": "code",
   "execution_count": null,
   "metadata": {},
   "outputs": [],
   "source": [
    "datagrid.transform([Filter('Origin', '=', 'USA'), Filter('Acceleration', '<', 13), Sort('Acceleration')])"
   ]
  },
  {
   "cell_type": "markdown",
   "metadata": {},
   "source": [
    "# Perfomance test: A million cells with ipydatagrid"
   ]
  },
  {
   "cell_type": "code",
   "execution_count": null,
   "metadata": {},
   "outputs": [],
   "source": [
    "from random import uniform\n",
    "\n",
    "def create_random_data(n_rows=100, n_columns=100):\n",
    "    data = {'data': [], 'schema': {}}\n",
    "\n",
    "    data['data'] = [[uniform(0, 1) for c in range(n_columns)] for r in range(n_rows)]\n",
    "    data['schema']['fields'] = [{'name': str(c), type:'number'} for c in range(n_columns)]\n",
    "    \n",
    "    return data\n",
    "\n",
    "def update_random_data(old_data):\n",
    "    data = {'data': [], 'schema': {}}\n",
    "    \n",
    "    n_columns = len(old_data['data'])\n",
    "    n_rows = len(old_data['data'][0])\n",
    "\n",
    "    data['data'] = [[uniform(-0.1, 0.1) + old_data['data'][r][c]  for c in range(n_columns)] for r in range(n_rows)]\n",
    "    data['schema']['fields'] = [{'name': str(c), type:'number'} for c in range(n_columns)]\n",
    "    \n",
    "    return data"
   ]
  },
  {
   "cell_type": "code",
   "execution_count": null,
   "metadata": {},
   "outputs": [],
   "source": [
    "from py2vega import constants\n",
    "\n",
    "huge_data = create_random_data(1000, 1000)\n",
    "\n",
    "def renderer_function():\n",
    "    return '#fc8403' if value < constants.SQRT1_2 else 'white'\n",
    "\n",
    "conditional_expression = Expr(renderer_function)\n",
    "\n",
    "default_renderer = TextRenderer(\n",
    "    background_color=conditional_expression,\n",
    "    format='.3f'\n",
    ")\n",
    "\n",
    "conditional_huge_datagrid = DataGrid(data=huge_data, default_renderer=default_renderer)\n",
    "conditional_huge_datagrid"
   ]
  },
  {
   "cell_type": "code",
   "execution_count": null,
   "metadata": {},
   "outputs": [],
   "source": [
    "from ipywidgets import FloatSlider, Dropdown, ColorPicker, HBox\n",
    "\n",
    "operator_dropdown = Dropdown(\n",
    "    options=['<', '>'],\n",
    "    value='<'\n",
    ")\n",
    "reference_slider = FloatSlider(value=0.5, min=0, max=1)\n",
    "output_colorpicker = ColorPicker(\n",
    "    value='#fc8403'\n",
    ")\n",
    "\n",
    "def on_change(*args, **kwargs):\n",
    "    conditional_expression.value = \"'{color}' if value {operator} {reference} else 'white'\".format(\n",
    "        operator=operator_dropdown.value,\n",
    "        reference=reference_slider.value,\n",
    "        color=output_colorpicker.value\n",
    "    )\n",
    "\n",
    "operator_dropdown.observe(on_change, 'value')\n",
    "reference_slider.observe(on_change, 'value')\n",
    "output_colorpicker.observe(on_change, 'value')\n",
    "\n",
    "HBox((operator_dropdown, reference_slider, output_colorpicker))"
   ]
  },
  {
   "cell_type": "markdown",
   "metadata": {},
   "source": [
    "## Bar renderer"
   ]
  },
  {
   "cell_type": "code",
   "execution_count": null,
   "metadata": {},
   "outputs": [],
   "source": [
    "from bqplot import LinearScale, ColorScale\n",
    "from ipydatagrid import DataGrid, BarRenderer\n",
    "\n",
    "linear_scale = LinearScale(min=0, max=1)\n",
    "color_scale = ColorScale(min=0, max=1)\n",
    "bar_renderer = BarRenderer(\n",
    "    bar_color=color_scale, \n",
    "    bar_value=linear_scale, \n",
    "    bar_horizontal_alignment='center',\n",
    "    horizontal_alignment='center',\n",
    "    format='.2f',\n",
    ")\n",
    "\n",
    "huge_datagrid = DataGrid(data=create_random_data(), default_renderer=bar_renderer)"
   ]
  },
  {
   "cell_type": "code",
   "execution_count": null,
   "metadata": {},
   "outputs": [],
   "source": [
    "huge_datagrid"
   ]
  },
  {
   "cell_type": "code",
   "execution_count": null,
   "metadata": {},
   "outputs": [],
   "source": [
    "from ipywidgets import FloatSlider, link\n",
    "\n",
    "slider = FloatSlider(description='Scale: ', value=linear_scale.max, min=0, max=1)\n",
    "link((color_scale, 'min'), (slider, 'value'))\n",
    "link((linear_scale, 'min'), (slider, 'value'))\n",
    "\n",
    "slider"
   ]
  },
  {
   "cell_type": "code",
   "execution_count": null,
   "metadata": {},
   "outputs": [],
   "source": [
    "color_scale.scheme = 'magma'"
   ]
  },
  {
   "cell_type": "code",
   "execution_count": null,
   "metadata": {},
   "outputs": [],
   "source": [
    "huge_datagrid.data = update_random_data(huge_datagrid.data)"
   ]
  }
 ],
 "metadata": {
  "kernelspec": {
   "display_name": "Python 3",
   "language": "python",
   "name": "python3"
  },
  "language_info": {
   "codemirror_mode": {
    "name": "ipython",
    "version": 3
   },
   "file_extension": ".py",
   "mimetype": "text/x-python",
   "name": "python",
   "nbconvert_exporter": "python",
   "pygments_lexer": "ipython3",
   "version": "3.7.3"
  }
 },
 "nbformat": 4,
 "nbformat_minor": 4
}
