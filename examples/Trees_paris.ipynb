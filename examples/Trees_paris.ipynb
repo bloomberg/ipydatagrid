{
 "cells": [
  {
   "cell_type": "markdown",
   "metadata": {},
   "source": [
    "# Trees in Paris"
   ]
  },
  {
   "cell_type": "code",
   "execution_count": null,
   "metadata": {},
   "outputs": [],
   "source": [
    "from json import load\n",
    "\n",
    "from ipywidgets import Text, VBox\n",
    "from bqplot import LinearScale, ColorScale, OrdinalColorScale, OrdinalScale\n",
    "\n",
    "from py2vega.functions.color import rgb\n",
    "\n",
    "from ipydatagrid import DataGrid, TextRenderer, BarRenderer, Expr\n",
    "\n",
    "with open('./trees.json') as fobj:\n",
    "    data = load(fobj)\n",
    "\n",
    "# Get list of possible tree species and kinds for the ordinal color scales\n",
    "species = list(set([tree['Species'] for tree in data['data'] if tree['Species'] is not None]))\n",
    "kinds = list(set([tree['Kind'] for tree in data['data'] if tree['Kind'] is not None]))\n",
    "\n",
    "# Text box for highlighting tree names\n",
    "highlight_box = Text(description='Highlight: ', value='Platane')\n",
    "name_background_color = Expr(\"'yellowgreen' if '{}' in value else 'white'\".format(highlight_box.value))\n",
    "\n",
    "def on_textbox_changed(*args, **kwargs):\n",
    "    name_background_color.value = \"'yellowgreen' if '{}' in value else 'white'\".format(highlight_box.value)\n",
    "\n",
    "highlight_box.observe(on_textbox_changed, 'value')\n",
    "\n",
    "def circumference_color(value):\n",
    "    color_value = 255 if value > 300 else (value / 300) * 255\n",
    "    return rgb(0, color_value, color_value)\n",
    "\n",
    "renderers = {\n",
    "    'French_name': TextRenderer(\n",
    "        background_color=name_background_color\n",
    "    ),\n",
    "    'Height_m': BarRenderer(\n",
    "        bar_value=LinearScale(min=0, max=30),\n",
    "        bar_color=ColorScale(min=0, max=30, scheme='viridis'),\n",
    "        horizontal_alignment='center',\n",
    "    ),\n",
    "    'Species': TextRenderer(\n",
    "        background_color=OrdinalColorScale(domain=species)\n",
    "    ),\n",
    "    'Kind': TextRenderer(\n",
    "        background_color=OrdinalColorScale(domain=kinds)\n",
    "    ),\n",
    "    'Type': TextRenderer(\n",
    "        missing='Unspecified'\n",
    "    ),\n",
    "    'Circumference_cm': BarRenderer(\n",
    "        bar_value=LinearScale(min=0, max=300),\n",
    "        bar_color=Expr(circumference_color),\n",
    "        horizontal_alignment='center'\n",
    "    ),\n",
    "}\n",
    "\n",
    "datagrid = DataGrid(data=data, base_row_size=32, base_column_size=90, renderers=renderers)\n",
    "VBox((highlight_box, datagrid))"
   ]
  },
  {
   "cell_type": "code",
   "execution_count": null,
   "metadata": {},
   "outputs": [],
   "source": [
    "def circumference_color(value):\n",
    "    color_value = 255 if value > 300 else (value / 300) * 255\n",
    "    return rgb(color_value, 0, 0)\n",
    "\n",
    "renderers['Circumference_cm'].bar_color.value = circumference_color"
   ]
  },
  {
   "cell_type": "code",
   "execution_count": null,
   "metadata": {},
   "outputs": [],
   "source": [
    "from ipydatagrid import Filter, Sort\n",
    "\n",
    "datagrid.transform([Sort('Height_m'), Filter('French_name', '=', 'Platane'), ])"
   ]
  },
  {
   "cell_type": "code",
   "execution_count": null,
   "metadata": {},
   "outputs": [],
   "source": []
  }
 ],
 "metadata": {
  "kernelspec": {
   "display_name": "Python 3",
   "language": "python",
   "name": "python3"
  },
  "language_info": {
   "codemirror_mode": {
    "name": "ipython",
    "version": 3
   },
   "file_extension": ".py",
   "mimetype": "text/x-python",
   "name": "python",
   "nbconvert_exporter": "python",
   "pygments_lexer": "ipython3",
   "version": "3.7.3"
  }
 },
 "nbformat": 4,
 "nbformat_minor": 4
}
