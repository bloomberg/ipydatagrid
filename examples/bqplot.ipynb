{
 "cells": [
  {
   "cell_type": "markdown",
   "metadata": {},
   "source": [
    "# Linking a bqplot to a datagrid widget"
   ]
  },
  {
   "cell_type": "markdown",
   "metadata": {},
   "source": [
    "## Load data"
   ]
  },
  {
   "cell_type": "code",
   "execution_count": 1,
   "metadata": {},
   "outputs": [],
   "source": [
    "import json\n",
    "\n",
    "import numpy as np\n",
    "import pandas as pd\n",
    "\n",
    "n = 10000\n",
    "\n",
    "df = pd.DataFrame({\n",
    "    'x': np.random.randn(n),\n",
    "    'y': np.random.randn(n),\n",
    "    'Dates': pd.date_range(end=pd.Timestamp('today'), periods=n)\n",
    "})\n",
    "jsontable = json.loads(df.to_json(orient='table'))"
   ]
  },
  {
   "cell_type": "markdown",
   "metadata": {},
   "source": [
    "## Create scales"
   ]
  },
  {
   "cell_type": "code",
   "execution_count": 2,
   "metadata": {},
   "outputs": [],
   "source": [
    "from bqplot import DateScale, DateColorScale, ColorScale, LinearScale\n",
    "\n",
    "min_date = df['Dates'][0]\n",
    "max_date = df['Dates'][n-1]\n",
    "\n",
    "scale_x = LinearScale()\n",
    "scale_y = LinearScale()\n",
    "xy_color_scale = ColorScale(min=-5, max=5)\n",
    "date_scale = DateScale(min=min_date, max=max_date)\n",
    "date_color_scale = DateColorScale(min=min_date, max=max_date, scheme='viridis')"
   ]
  },
  {
   "cell_type": "markdown",
   "metadata": {},
   "source": [
    "## Create bplot with a brush selector"
   ]
  },
  {
   "cell_type": "code",
   "execution_count": 3,
   "metadata": {},
   "outputs": [],
   "source": [
    "from bqplot import Axis, ColorAxis, Figure, ScatterGL\n",
    "from bqplot.interacts import BrushIntervalSelector, PanZoom\n",
    "\n",
    "scatter = ScatterGL(\n",
    "    x=df['x'], y=df['y'], color=df['Dates'],\n",
    "    scales={\n",
    "        'x': scale_x, 'y': scale_y, \n",
    "        'color': date_color_scale\n",
    "    },\n",
    "    marker='circle',\n",
    "    stroke='black'\n",
    ")\n",
    "\n",
    "ax_x = Axis(scale=scale_x, grid_lines='solid', tick_format='0.2f', label='X')\n",
    "ax_y = Axis(scale=scale_y, orientation='vertical', tick_format='0.2f', grid_lines='solid', label='Y')\n",
    "\n",
    "fig = Figure(marks=[scatter], axes=[ax_x, ax_y], title='My Plot', legend_location='bottom-right')\n",
    "\n",
    "selector = BrushIntervalSelector(marks=[scatter], scale=scale_x)"
   ]
  },
  {
   "cell_type": "markdown",
   "metadata": {},
   "source": [
    "## Create datagrid"
   ]
  },
  {
   "cell_type": "code",
   "execution_count": 4,
   "metadata": {},
   "outputs": [],
   "source": [
    "from py2vega.functions.type_coercing import toDate\n",
    "from py2vega.functions.date_time import datetime\n",
    "\n",
    "from ipydatagrid import Expr, DataGrid, TextRenderer, BarRenderer\n",
    "\n",
    "text_renderer = TextRenderer(\n",
    "    background_color=Expr('default_value')\n",
    ")\n",
    "\n",
    "renderers = {\n",
    "    'x': text_renderer,\n",
    "    'Dates': BarRenderer(\n",
    "        bar_value=date_scale,\n",
    "        bar_color=date_color_scale,\n",
    "        format='%Y/%m/%d',\n",
    "        format_type='time'\n",
    "    ),\n",
    "}\n",
    "\n",
    "grid = DataGrid(data=jsontable, base_row_size=30, base_column_size=300, renderers=renderers)\n",
    "grid.transform([{'type': 'sort', 'columnIndex': 2, 'desc': True}])"
   ]
  },
  {
   "cell_type": "code",
   "execution_count": 5,
   "metadata": {},
   "outputs": [
    {
     "data": {
      "application/vnd.jupyter.widget-view+json": {
       "model_id": "cdb96af3dbaf458c901b357ab4c555d9",
       "version_major": 2,
       "version_minor": 0
      },
      "text/plain": [
       "HBox(children=(Figure(axes=[Axis(label='X', scale=LinearScale(), side='bottom', tick_format='0.2f'), Axis(labe…"
      ]
     },
     "metadata": {},
     "output_type": "display_data"
    }
   ],
   "source": [
    "from ipywidgets import HBox\n",
    "\n",
    "grid.layout.width = '50%'\n",
    "\n",
    "HBox((fig, grid))"
   ]
  },
  {
   "cell_type": "markdown",
   "metadata": {},
   "source": [
    "## Add interactions"
   ]
  },
  {
   "cell_type": "markdown",
   "metadata": {},
   "source": [
    "### Add mouse selector to the figure"
   ]
  },
  {
   "cell_type": "code",
   "execution_count": 6,
   "metadata": {},
   "outputs": [],
   "source": [
    "scatter.selected = []\n",
    "fig.interaction = selector"
   ]
  },
  {
   "cell_type": "markdown",
   "metadata": {},
   "source": [
    "### Filter grid on selection"
   ]
  },
  {
   "cell_type": "code",
   "execution_count": 7,
   "metadata": {},
   "outputs": [],
   "source": [
    "def update_renderer(*args, **kwargs):\n",
    "    grid.revert()\n",
    "    grid.transform([{'type': 'filter', 'operator': 'between', 'columnIndex': 1, 'value': list(selector.selected)}])\n",
    "\n",
    "selector.observe(update_renderer, 'selected')"
   ]
  },
  {
   "cell_type": "code",
   "execution_count": null,
   "metadata": {},
   "outputs": [],
   "source": [
    "selector.unobserve(update_renderer, 'selected')\n",
    "grid.revert()"
   ]
  },
  {
   "cell_type": "markdown",
   "metadata": {},
   "source": [
    "### Change grid highlighting on selection"
   ]
  },
  {
   "cell_type": "code",
   "execution_count": null,
   "metadata": {},
   "outputs": [],
   "source": [
    "def update_renderer(*args, **kwargs):\n",
    "    text_renderer.background_color.value = \"'green' if value > {} and value < {} else default_value\".format(*selector.selected)\n",
    "\n",
    "selector.observe(update_renderer, 'selected')"
   ]
  }
 ],
 "metadata": {
  "kernelspec": {
   "display_name": "Python 3",
   "language": "python",
   "name": "python3"
  },
  "language_info": {
   "codemirror_mode": {
    "name": "ipython",
    "version": 3
   },
   "file_extension": ".py",
   "mimetype": "text/x-python",
   "name": "python",
   "nbconvert_exporter": "python",
   "pygments_lexer": "ipython3",
   "version": "3.7.3"
  }
 },
 "nbformat": 4,
 "nbformat_minor": 4
}
