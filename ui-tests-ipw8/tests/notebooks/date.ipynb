{
 "cells": [
  {
   "cell_type": "code",
   "execution_count": null,
   "id": "6aef93c2-6ac1-40aa-a22f-9f2102ce3b8f",
   "metadata": {},
   "outputs": [],
   "source": [
    "import datetime\n",
    "\n",
    "import pandas as pd\n",
    "import ipydatagrid\n",
    "\n",
    "\n",
    "df = pd.DataFrame(\n",
    "    {\n",
    "        'A': [datetime.datetime(2024, 8, 5) - datetime.timedelta(days=1), datetime.datetime(2024, 11, 5)],\n",
    "        'B': [datetime.datetime(2024, 10, 5) - datetime.timedelta(days=1), datetime.datetime(2024, 10, 5)],\n",
    "    },\n",
    ")\n",
    "dg = ipydatagrid.DataGrid(df, base_column_size=250)\n",
    "dg"
   ]
  }
 ],
 "metadata": {
  "kernelspec": {
   "display_name": "Python 3 (ipykernel)",
   "language": "python",
   "name": "python3"
  },
  "language_info": {
   "codemirror_mode": {
    "name": "ipython",
    "version": 3
   },
   "file_extension": ".py",
   "mimetype": "text/x-python",
   "name": "python",
   "nbconvert_exporter": "python",
   "pygments_lexer": "ipython3",
   "version": "3.12.3"
  }
 },
 "nbformat": 4,
 "nbformat_minor": 5
}
