{
 "cells": [
  {
   "cell_type": "code",
   "execution_count": null,
   "id": "c8271791-1c8f-4b79-b105-f57576533aaa",
   "metadata": {},
   "outputs": [],
   "source": [
    "from ipydatagrid import DataGrid, TextRenderer, BarRenderer, Expr, ImageRenderer\n",
    "\n",
    "import pandas as pd\n",
    "\n",
    "columns = [\"a\", \"b\", \"c\"]\n",
    "\n",
    "df = pd.DataFrame(dict(zip(columns, len(columns) * [[]])))\n",
    "DataGrid(df)"
   ]
  }
 ],
 "metadata": {
  "kernelspec": {
   "display_name": "Python 3 (ipykernel)",
   "language": "python",
   "name": "python3"
  },
  "language_info": {
   "codemirror_mode": {
    "name": "ipython",
    "version": 3
   },
   "file_extension": ".py",
   "mimetype": "text/x-python",
   "name": "python",
   "nbconvert_exporter": "python",
   "pygments_lexer": "ipython3",
   "version": "3.12.3"
  }
 },
 "nbformat": 4,
 "nbformat_minor": 5
}
